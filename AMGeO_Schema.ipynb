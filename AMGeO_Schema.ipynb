{
 "cells": [
  {
   "cell_type": "code",
   "execution_count": null,
   "id": "2aa95caa",
   "metadata": {},
   "outputs": [],
   "source": []
  },
  {
   "cell_type": "code",
   "execution_count": null,
   "id": "62477277",
   "metadata": {},
   "outputs": [],
   "source": [
    "\n"
   ]
  },
  {
   "cell_type": "code",
   "execution_count": 2,
   "id": "0b18db1e",
   "metadata": {
    "scrolled": true
   },
   "outputs": [
    {
     "name": "stdout",
     "output_type": "stream",
     "text": [
      "Specification base set to https://www.schema.org\n",
      "Using Version 12.0\n",
      "Found https://www.schema.org/Dataset\n",
      "Dataset: found 129 properties\n",
      "Specification base set to https://www.schema.org\n",
      "Using Version 12.0\n",
      "Found https://www.schema.org/Place\n",
      "Place: found 56 properties\n",
      "Specification base set to https://www.schema.org\n",
      "Using Version 12.0\n",
      "Found https://www.schema.org/Place\n",
      "Place: found 56 properties\n",
      "Specification base set to https://www.schema.org\n",
      "Using Version 12.0\n",
      "Found https://www.schema.org/PropertyValue\n",
      "PropertyValue: found 20 properties\n",
      "Specification base set to https://www.schema.org\n",
      "Using Version 12.0\n",
      "Found https://www.schema.org/PropertyValue\n",
      "PropertyValue: found 20 properties\n",
      "Specification base set to https://www.schema.org\n",
      "Using Version 12.0\n",
      "Found https://www.schema.org/PropertyValue\n",
      "PropertyValue: found 20 properties\n",
      "Specification base set to https://www.schema.org\n",
      "Using Version 12.0\n",
      "Found https://www.schema.org/PropertyValue\n",
      "PropertyValue: found 20 properties\n",
      "Specification base set to https://www.schema.org\n",
      "Using Version 12.0\n",
      "Found https://www.schema.org/PropertyValue\n",
      "PropertyValue: found 20 properties\n",
      "Specification base set to https://www.schema.org\n",
      "Using Version 12.0\n",
      "Found https://www.schema.org/PropertyValue\n",
      "PropertyValue: found 20 properties\n",
      "Specification base set to https://www.schema.org\n",
      "Using Version 12.0\n",
      "Found https://www.schema.org/PropertyValue\n",
      "PropertyValue: found 20 properties\n",
      "Specification base set to https://www.schema.org\n",
      "Using Version 12.0\n",
      "Found https://www.schema.org/PropertyValue\n",
      "PropertyValue: found 20 properties\n",
      "Specification base set to https://www.schema.org\n",
      "Using Version 12.0\n",
      "Found https://www.schema.org/PropertyValue\n",
      "PropertyValue: found 20 properties\n"
     ]
    }
   ],
   "source": [
    "from SchemaBuilder import *\n",
    "import xarray\n",
    "\n",
    "currdata = xarray.open_dataset('data_2013_1_1_12_30.nc')\n",
    "schema = SchemaBuilder(data=currdata)\n",
    "\n",
    "\n",
    "props = {\n",
    "    \"author\": \"Akash Ratheesh\",\n",
    "}\n",
    "\n",
    "schema.add_property_set(props)\n",
    "\n",
    "html = schema.to_html()\n",
    "\n",
    "from IPython.core.display import display, HTML\n",
    "#print(list(currdata.keys()))\n",
    "\n"
   ]
  },
  {
   "cell_type": "code",
   "execution_count": 6,
   "id": "3ee7097b",
   "metadata": {},
   "outputs": [],
   "source": [
    "file = open(\"sampleSchema.html\",\"w\")\n",
    "file.write(html)\n",
    "file.close()"
   ]
  },
  {
   "cell_type": "code",
   "execution_count": null,
   "id": "26baedc1",
   "metadata": {},
   "outputs": [],
   "source": [
    "HTML(html)"
   ]
  }
 ],
 "metadata": {
  "kernelspec": {
   "display_name": "Python 3 (ipykernel)",
   "language": "python",
   "name": "python3"
  },
  "language_info": {
   "codemirror_mode": {
    "name": "ipython",
    "version": 3
   },
   "file_extension": ".py",
   "mimetype": "text/x-python",
   "name": "python",
   "nbconvert_exporter": "python",
   "pygments_lexer": "ipython3",
   "version": "3.9.5"
  }
 },
 "nbformat": 4,
 "nbformat_minor": 5
}
